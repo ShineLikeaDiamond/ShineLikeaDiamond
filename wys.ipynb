{
  "cells": [
    {
      "cell_type": "markdown",
      "metadata": {
        "id": "view-in-github",
        "colab_type": "text"
      },
      "source": [
        "<a href=\"https://colab.research.google.com/github/ShineLikeaDiamond/ShineLikeaDiamond/blob/main/wys.ipynb\" target=\"_parent\"><img src=\"https://colab.research.google.com/assets/colab-badge.svg\" alt=\"Open In Colab\"/></a>"
      ]
    },
    {
      "cell_type": "code",
      "execution_count": null,
      "metadata": {
        "colab": {
          "base_uri": "https://localhost:8080/"
        },
        "id": "I_uJRDVVzOX3",
        "outputId": "b1e72d77-27d1-43cb-afde-40cf62495e42"
      },
      "outputs": [
        {
          "output_type": "stream",
          "name": "stdout",
          "text": [
            "Requirement already satisfied: wyscoutapi in /usr/local/lib/python3.7/dist-packages (0.0.2)\n",
            "Requirement already satisfied: ratelimiter>=1.2.0 in /usr/local/lib/python3.7/dist-packages (from wyscoutapi) (1.2.0.post0)\n",
            "Requirement already satisfied: requests>=2.21.0 in /usr/local/lib/python3.7/dist-packages (from wyscoutapi) (2.23.0)\n",
            "Requirement already satisfied: certifi>=2017.4.17 in /usr/local/lib/python3.7/dist-packages (from requests>=2.21.0->wyscoutapi) (2021.10.8)\n",
            "Requirement already satisfied: chardet<4,>=3.0.2 in /usr/local/lib/python3.7/dist-packages (from requests>=2.21.0->wyscoutapi) (3.0.4)\n",
            "Requirement already satisfied: idna<3,>=2.5 in /usr/local/lib/python3.7/dist-packages (from requests>=2.21.0->wyscoutapi) (2.10)\n",
            "Requirement already satisfied: urllib3!=1.25.0,!=1.25.1,<1.26,>=1.21.1 in /usr/local/lib/python3.7/dist-packages (from requests>=2.21.0->wyscoutapi) (1.24.3)\n"
          ]
        }
      ],
      "source": [
        "!pip install wyscoutapi"
      ]
    },
    {
      "cell_type": "code",
      "execution_count": null,
      "metadata": {
        "id": "gNLIwFKOzUyI"
      },
      "outputs": [],
      "source": [
        "import base64\n",
        "import json\n",
        "\n",
        "import requests\n",
        "import ratelimiter"
      ]
    },
    {
      "cell_type": "code",
      "execution_count": 35,
      "metadata": {
        "id": "o5o8c89UUBlY",
        "colab": {
          "base_uri": "https://localhost:8080/"
        },
        "outputId": "c250bfc3-22ff-45d1-ac8a-3bb6fa8abcfa"
      },
      "outputs": [
        {
          "output_type": "execute_result",
          "data": {
            "text/plain": [
              "[{'area': {'alpha2code': 'IT',\n",
              "   'alpha3code': 'ITA',\n",
              "   'id': 380,\n",
              "   'name': 'Italy'},\n",
              "  'category': 'default',\n",
              "  'divisionLevel': 1,\n",
              "  'format': 'Domestic league',\n",
              "  'gender': 'male',\n",
              "  'name': 'Serie A',\n",
              "  'type': 'club',\n",
              "  'wyId': 524}]"
            ]
          },
          "metadata": {},
          "execution_count": 35
        }
      ],
      "source": [
        "import wyscoutapi\n",
        "\n",
        "w = wyscoutapi.WyscoutAPI(\n",
        "    username = '3zkxsvo-g3t7l3uf0-2fg4v8a-f5ylowzu3u',\n",
        "    password='tAzRW0^zy^bFG.kutHvY@zmo)=?TIz',\n",
        ")\n",
        "w.search('Italy', 'competition')"
      ]
    },
    {
      "cell_type": "code",
      "execution_count": 41,
      "metadata": {
        "id": "NxMELu5yURmT"
      },
      "outputs": [],
      "source": [
        "#w.competition_matches(524)\n"
      ]
    },
    {
      "cell_type": "code",
      "execution_count": 43,
      "metadata": {
        "id": "V9--abvtaMGq"
      },
      "outputs": [],
      "source": [
        "#data = w.competition_matches(524)\n",
        "#jsonData = json.dumps(data)\n",
        "#jsonData"
      ]
    },
    {
      "cell_type": "code",
      "execution_count": 10,
      "metadata": {
        "id": "tzB3We_ta0RU"
      },
      "outputs": [],
      "source": [
        "from google.colab import files\n",
        "\n"
      ]
    },
    {
      "cell_type": "code",
      "execution_count": 38,
      "metadata": {
        "id": "i6F_cMiJmRAy",
        "colab": {
          "base_uri": "https://localhost:8080/",
          "height": 17
        },
        "outputId": "6d2517ca-b217-43ac-dea7-c6c24ee6d661"
      },
      "outputs": [
        {
          "output_type": "display_data",
          "data": {
            "text/plain": [
              "<IPython.core.display.Javascript object>"
            ],
            "application/javascript": [
              "\n",
              "    async function download(id, filename, size) {\n",
              "      if (!google.colab.kernel.accessAllowed) {\n",
              "        return;\n",
              "      }\n",
              "      const div = document.createElement('div');\n",
              "      const label = document.createElement('label');\n",
              "      label.textContent = `Downloading \"${filename}\": `;\n",
              "      div.appendChild(label);\n",
              "      const progress = document.createElement('progress');\n",
              "      progress.max = size;\n",
              "      div.appendChild(progress);\n",
              "      document.body.appendChild(div);\n",
              "\n",
              "      const buffers = [];\n",
              "      let downloaded = 0;\n",
              "\n",
              "      const channel = await google.colab.kernel.comms.open(id);\n",
              "      // Send a message to notify the kernel that we're ready.\n",
              "      channel.send({})\n",
              "\n",
              "      for await (const message of channel.messages) {\n",
              "        // Send a message to notify the kernel that we're ready.\n",
              "        channel.send({})\n",
              "        if (message.buffers) {\n",
              "          for (const buffer of message.buffers) {\n",
              "            buffers.push(buffer);\n",
              "            downloaded += buffer.byteLength;\n",
              "            progress.value = downloaded;\n",
              "          }\n",
              "        }\n",
              "      }\n",
              "      const blob = new Blob(buffers, {type: 'application/binary'});\n",
              "      const a = document.createElement('a');\n",
              "      a.href = window.URL.createObjectURL(blob);\n",
              "      a.download = filename;\n",
              "      div.appendChild(a);\n",
              "      a.click();\n",
              "      div.remove();\n",
              "    }\n",
              "  "
            ]
          },
          "metadata": {}
        },
        {
          "output_type": "display_data",
          "data": {
            "text/plain": [
              "<IPython.core.display.Javascript object>"
            ],
            "application/javascript": [
              "download(\"download_39348312-275d-4220-8b7a-8d53241b13eb\", \"italy.json\", 68318)"
            ]
          },
          "metadata": {}
        }
      ],
      "source": [
        "with open('italy.json', 'w') as f:\n",
        "  f.write(jsonData)\n",
        "  #with open('r.json', 'w') as f:\n",
        "  #f.write(r)\n",
        "files.download('italy.json')"
      ]
    },
    {
      "cell_type": "code",
      "execution_count": 11,
      "metadata": {
        "colab": {
          "base_uri": "https://localhost:8080/"
        },
        "id": "UvNs67dIptTy",
        "outputId": "9506b2ce-4be1-4a47-9c1c-f75ddbf7d1db"
      },
      "outputs": [
        {
          "output_type": "stream",
          "name": "stdout",
          "text": [
            "Mounted at /content/gdrive\n"
          ]
        }
      ],
      "source": [
        "from google.colab import drive\n",
        "drive.mount('/content/gdrive', force_remount=True)"
      ]
    },
    {
      "cell_type": "code",
      "execution_count": 39,
      "metadata": {
        "id": "h5C1NFWzpyng"
      },
      "outputs": [],
      "source": [
        "!cp /content/gdrive/'My Drive'/italy.csv ."
      ]
    },
    {
      "cell_type": "code",
      "execution_count": 40,
      "metadata": {
        "colab": {
          "base_uri": "https://localhost:8080/",
          "height": 206
        },
        "id": "gJYpkNFvp7wC",
        "outputId": "044c5e14-7c43-4a82-86a1-9ad98d62c1aa"
      },
      "outputs": [
        {
          "output_type": "execute_result",
          "data": {
            "text/plain": [
              "   matchId                           label                 date  \\\n",
              "0  5251213            Milan - Bologna, 0-0  2022-04-04 20:45:00   \n",
              "1  5251210      Hellas Verona - Genoa, 1-0  2022-04-04 18:30:00   \n",
              "2  5251211  Juventus - Internazionale, 0-1  2022-04-03 20:45:00   \n",
              "3  5251215           Sampdoria - Roma, 0-1  2022-04-03 18:00:00   \n",
              "4  5251208          Atalanta - Napoli, 1-3  2022-04-03 15:00:00   \n",
              "\n",
              "               dateutc  status  competitionId  seasonId  roundId  gameweek  \n",
              "0  2022-04-04 18:45:00  Played            524    187528  4424524        31  \n",
              "1  2022-04-04 16:30:00  Played            524    187528  4424524        31  \n",
              "2  2022-04-03 18:45:00  Played            524    187528  4424524        31  \n",
              "3  2022-04-03 16:00:00  Played            524    187528  4424524        31  \n",
              "4  2022-04-03 13:00:00  Played            524    187528  4424524        31  "
            ],
            "text/html": [
              "\n",
              "  <div id=\"df-d4632c89-7cc7-4a3d-8f3f-bb9220dc3fdc\">\n",
              "    <div class=\"colab-df-container\">\n",
              "      <div>\n",
              "<style scoped>\n",
              "    .dataframe tbody tr th:only-of-type {\n",
              "        vertical-align: middle;\n",
              "    }\n",
              "\n",
              "    .dataframe tbody tr th {\n",
              "        vertical-align: top;\n",
              "    }\n",
              "\n",
              "    .dataframe thead th {\n",
              "        text-align: right;\n",
              "    }\n",
              "</style>\n",
              "<table border=\"1\" class=\"dataframe\">\n",
              "  <thead>\n",
              "    <tr style=\"text-align: right;\">\n",
              "      <th></th>\n",
              "      <th>matchId</th>\n",
              "      <th>label</th>\n",
              "      <th>date</th>\n",
              "      <th>dateutc</th>\n",
              "      <th>status</th>\n",
              "      <th>competitionId</th>\n",
              "      <th>seasonId</th>\n",
              "      <th>roundId</th>\n",
              "      <th>gameweek</th>\n",
              "    </tr>\n",
              "  </thead>\n",
              "  <tbody>\n",
              "    <tr>\n",
              "      <th>0</th>\n",
              "      <td>5251213</td>\n",
              "      <td>Milan - Bologna, 0-0</td>\n",
              "      <td>2022-04-04 20:45:00</td>\n",
              "      <td>2022-04-04 18:45:00</td>\n",
              "      <td>Played</td>\n",
              "      <td>524</td>\n",
              "      <td>187528</td>\n",
              "      <td>4424524</td>\n",
              "      <td>31</td>\n",
              "    </tr>\n",
              "    <tr>\n",
              "      <th>1</th>\n",
              "      <td>5251210</td>\n",
              "      <td>Hellas Verona - Genoa, 1-0</td>\n",
              "      <td>2022-04-04 18:30:00</td>\n",
              "      <td>2022-04-04 16:30:00</td>\n",
              "      <td>Played</td>\n",
              "      <td>524</td>\n",
              "      <td>187528</td>\n",
              "      <td>4424524</td>\n",
              "      <td>31</td>\n",
              "    </tr>\n",
              "    <tr>\n",
              "      <th>2</th>\n",
              "      <td>5251211</td>\n",
              "      <td>Juventus - Internazionale, 0-1</td>\n",
              "      <td>2022-04-03 20:45:00</td>\n",
              "      <td>2022-04-03 18:45:00</td>\n",
              "      <td>Played</td>\n",
              "      <td>524</td>\n",
              "      <td>187528</td>\n",
              "      <td>4424524</td>\n",
              "      <td>31</td>\n",
              "    </tr>\n",
              "    <tr>\n",
              "      <th>3</th>\n",
              "      <td>5251215</td>\n",
              "      <td>Sampdoria - Roma, 0-1</td>\n",
              "      <td>2022-04-03 18:00:00</td>\n",
              "      <td>2022-04-03 16:00:00</td>\n",
              "      <td>Played</td>\n",
              "      <td>524</td>\n",
              "      <td>187528</td>\n",
              "      <td>4424524</td>\n",
              "      <td>31</td>\n",
              "    </tr>\n",
              "    <tr>\n",
              "      <th>4</th>\n",
              "      <td>5251208</td>\n",
              "      <td>Atalanta - Napoli, 1-3</td>\n",
              "      <td>2022-04-03 15:00:00</td>\n",
              "      <td>2022-04-03 13:00:00</td>\n",
              "      <td>Played</td>\n",
              "      <td>524</td>\n",
              "      <td>187528</td>\n",
              "      <td>4424524</td>\n",
              "      <td>31</td>\n",
              "    </tr>\n",
              "  </tbody>\n",
              "</table>\n",
              "</div>\n",
              "      <button class=\"colab-df-convert\" onclick=\"convertToInteractive('df-d4632c89-7cc7-4a3d-8f3f-bb9220dc3fdc')\"\n",
              "              title=\"Convert this dataframe to an interactive table.\"\n",
              "              style=\"display:none;\">\n",
              "        \n",
              "  <svg xmlns=\"http://www.w3.org/2000/svg\" height=\"24px\"viewBox=\"0 0 24 24\"\n",
              "       width=\"24px\">\n",
              "    <path d=\"M0 0h24v24H0V0z\" fill=\"none\"/>\n",
              "    <path d=\"M18.56 5.44l.94 2.06.94-2.06 2.06-.94-2.06-.94-.94-2.06-.94 2.06-2.06.94zm-11 1L8.5 8.5l.94-2.06 2.06-.94-2.06-.94L8.5 2.5l-.94 2.06-2.06.94zm10 10l.94 2.06.94-2.06 2.06-.94-2.06-.94-.94-2.06-.94 2.06-2.06.94z\"/><path d=\"M17.41 7.96l-1.37-1.37c-.4-.4-.92-.59-1.43-.59-.52 0-1.04.2-1.43.59L10.3 9.45l-7.72 7.72c-.78.78-.78 2.05 0 2.83L4 21.41c.39.39.9.59 1.41.59.51 0 1.02-.2 1.41-.59l7.78-7.78 2.81-2.81c.8-.78.8-2.07 0-2.86zM5.41 20L4 18.59l7.72-7.72 1.47 1.35L5.41 20z\"/>\n",
              "  </svg>\n",
              "      </button>\n",
              "      \n",
              "  <style>\n",
              "    .colab-df-container {\n",
              "      display:flex;\n",
              "      flex-wrap:wrap;\n",
              "      gap: 12px;\n",
              "    }\n",
              "\n",
              "    .colab-df-convert {\n",
              "      background-color: #E8F0FE;\n",
              "      border: none;\n",
              "      border-radius: 50%;\n",
              "      cursor: pointer;\n",
              "      display: none;\n",
              "      fill: #1967D2;\n",
              "      height: 32px;\n",
              "      padding: 0 0 0 0;\n",
              "      width: 32px;\n",
              "    }\n",
              "\n",
              "    .colab-df-convert:hover {\n",
              "      background-color: #E2EBFA;\n",
              "      box-shadow: 0px 1px 2px rgba(60, 64, 67, 0.3), 0px 1px 3px 1px rgba(60, 64, 67, 0.15);\n",
              "      fill: #174EA6;\n",
              "    }\n",
              "\n",
              "    [theme=dark] .colab-df-convert {\n",
              "      background-color: #3B4455;\n",
              "      fill: #D2E3FC;\n",
              "    }\n",
              "\n",
              "    [theme=dark] .colab-df-convert:hover {\n",
              "      background-color: #434B5C;\n",
              "      box-shadow: 0px 1px 3px 1px rgba(0, 0, 0, 0.15);\n",
              "      filter: drop-shadow(0px 1px 2px rgba(0, 0, 0, 0.3));\n",
              "      fill: #FFFFFF;\n",
              "    }\n",
              "  </style>\n",
              "\n",
              "      <script>\n",
              "        const buttonEl =\n",
              "          document.querySelector('#df-d4632c89-7cc7-4a3d-8f3f-bb9220dc3fdc button.colab-df-convert');\n",
              "        buttonEl.style.display =\n",
              "          google.colab.kernel.accessAllowed ? 'block' : 'none';\n",
              "\n",
              "        async function convertToInteractive(key) {\n",
              "          const element = document.querySelector('#df-d4632c89-7cc7-4a3d-8f3f-bb9220dc3fdc');\n",
              "          const dataTable =\n",
              "            await google.colab.kernel.invokeFunction('convertToInteractive',\n",
              "                                                     [key], {});\n",
              "          if (!dataTable) return;\n",
              "\n",
              "          const docLinkHtml = 'Like what you see? Visit the ' +\n",
              "            '<a target=\"_blank\" href=https://colab.research.google.com/notebooks/data_table.ipynb>data table notebook</a>'\n",
              "            + ' to learn more about interactive tables.';\n",
              "          element.innerHTML = '';\n",
              "          dataTable['output_type'] = 'display_data';\n",
              "          await google.colab.output.renderOutput(dataTable, element);\n",
              "          const docLink = document.createElement('div');\n",
              "          docLink.innerHTML = docLinkHtml;\n",
              "          element.appendChild(docLink);\n",
              "        }\n",
              "      </script>\n",
              "    </div>\n",
              "  </div>\n",
              "  "
            ]
          },
          "metadata": {},
          "execution_count": 40
        }
      ],
      "source": [
        "import pandas as pd\n",
        "match = pd.read_csv('italy.csv')\n",
        "match.head()"
      ]
    },
    {
      "cell_type": "code",
      "execution_count": null,
      "metadata": {
        "colab": {
          "base_uri": "https://localhost:8080/"
        },
        "id": "OydCAsrOwglR",
        "outputId": "0e207800-ea10-4d2b-fe29-21371646667b"
      },
      "outputs": [
        {
          "output_type": "execute_result",
          "data": {
            "text/plain": [
              "5227962"
            ]
          },
          "metadata": {},
          "execution_count": 28
        }
      ],
      "source": [
        "match['matchId'][20]"
      ]
    },
    {
      "cell_type": "code",
      "execution_count": 42,
      "metadata": {
        "id": "ARfMTmE_0q27"
      },
      "outputs": [],
      "source": [
        "#match['label']"
      ]
    },
    {
      "cell_type": "code",
      "execution_count": 34,
      "metadata": {
        "id": "X7wdXs1WqRCI"
      },
      "outputs": [],
      "source": [
        "#a = 1\n",
        "#b = 0\n",
        "#for a in range(1,299):\n",
        " # a = a - 1\n",
        "  #a = set(a)\n",
        " # print(a)\n",
        "#for b in range(0,300):\n",
        "  #b = b + 1\n",
        "  #b = set(b)\n",
        "  #print(b)import datetime  \n",
        "import uuid \n",
        "\n",
        "for k in match['matchId'][311:312]:\n",
        "  r = w.match_events(k)\n",
        "  filename = str(k)\n",
        "  with open(filename + \".json\", 'x') as f:\n",
        "     f.write(json.dumps(r))\n",
        "  #with open('r.json', 'w') as f:\n",
        "  #f.write(r)\n",
        "  files.download(filename + \".json\")\n",
        "  #print(i)\n",
        "#print(w.match_events(match.matchId[i]))"
      ]
    },
    {
      "cell_type": "code",
      "execution_count": null,
      "metadata": {
        "id": "TXIHYqnXQQWp"
      },
      "outputs": [],
      "source": [
        ""
      ]
    }
  ],
  "metadata": {
    "colab": {
      "name": "wys.ipynb",
      "provenance": [],
      "collapsed_sections": [],
      "authorship_tag": "ABX9TyPFX2qpkRllbOvMMTMVVpbT",
      "include_colab_link": true
    },
    "kernelspec": {
      "display_name": "Python 3",
      "name": "python3"
    },
    "language_info": {
      "name": "python"
    }
  },
  "nbformat": 4,
  "nbformat_minor": 0
}